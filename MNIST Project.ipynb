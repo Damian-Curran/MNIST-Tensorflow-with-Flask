{
 "cells": [
  {
   "cell_type": "code",
   "execution_count": 1,
   "metadata": {},
   "outputs": [],
   "source": [
    "import gzip\n",
    "import tensorflow as tf"
   ]
  },
  {
   "cell_type": "code",
   "execution_count": 2,
   "metadata": {},
   "outputs": [],
   "source": [
    "def labelss(filepath):\n",
    "        with gzip.open(filepath, 'rb') as f:\n",
    "            labels = []\n",
    "            \n",
    "            #Saves variables that arent bytes for labels\n",
    "            magicNum = (int.from_bytes(f.read(4), \"big\"))\n",
    "            noLabels = (int.from_bytes(f.read(4), \"big\"))\n",
    "            \n",
    "            #for loop for range, 60,000/10,000\n",
    "            for i in range(noLabels):\n",
    "                #Reads byte at a time and appends to list\n",
    "                labels.append((int.from_bytes(f.read(1), \"big\")))\n",
    "        \n",
    "        return labels"
   ]
  },
  {
   "cell_type": "code",
   "execution_count": 3,
   "metadata": {},
   "outputs": [],
   "source": [
    "#append vs extend:  https://stackoverflow.com/questions/252703/difference-between-append-vs-extend-list-methods-in-python\n",
    "\n",
    "def imagess(filepath):\n",
    "    with gzip.open(filepath, 'rb') as f:     \n",
    "        \n",
    "        #Save variables that are not image bytes\n",
    "        magicNum = (int.from_bytes(f.read(4), \"big\"))\n",
    "        noImages = (int.from_bytes(f.read(4), \"big\"))\n",
    "        noRow = (int.from_bytes(f.read(4), \"big\"))\n",
    "        noCol = (int.from_bytes(f.read(4), \"big\"))\n",
    "                \n",
    "        images = []\n",
    "        \n",
    "        for i in range(noImages):\n",
    "            row = []\n",
    "            for k in range(noRow):\n",
    "                col = []\n",
    "                for j in range(noCol):\n",
    "                    col.append(int.from_bytes(f.read(1), \"big\"))\n",
    "                #extend used here to add each 28 bytes to 1d array of length [1,2,3,4,5,6]\n",
    "                #vs append which would create a 2d array [[1,2,3],[4,5,6]]\n",
    "                row.extend(col)\n",
    "            images.append(row)     \n",
    "            \n",
    "        return images"
   ]
  },
  {
   "cell_type": "code",
   "execution_count": 4,
   "metadata": {},
   "outputs": [],
   "source": [
    "train_Labels = labelss(\"C:\\\\Users\\\\Damian Curran\\\\Desktop\\\\mnist\\\\train-labels.gz\")"
   ]
  },
  {
   "cell_type": "code",
   "execution_count": 5,
   "metadata": {},
   "outputs": [],
   "source": [
    "train_Images = imagess(\"C:\\\\Users\\\\Damian Curran\\\\Desktop\\\\mnist\\\\train-images.gz\")"
   ]
  },
  {
   "cell_type": "code",
   "execution_count": null,
   "metadata": {},
   "outputs": [],
   "source": []
  }
 ],
 "metadata": {
  "kernelspec": {
   "display_name": "Python 3",
   "language": "python",
   "name": "python3"
  },
  "language_info": {
   "codemirror_mode": {
    "name": "ipython",
    "version": 3
   },
   "file_extension": ".py",
   "mimetype": "text/x-python",
   "name": "python",
   "nbconvert_exporter": "python",
   "pygments_lexer": "ipython3",
   "version": "3.5.4"
  }
 },
 "nbformat": 4,
 "nbformat_minor": 2
}
